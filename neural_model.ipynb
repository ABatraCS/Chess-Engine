{
 "cells": [
  {
   "cell_type": "markdown",
   "metadata": {},
   "source": [
    "# CNN evaluation function for chess positions from the lichess puzzle database\n",
    "The dataset that I use is a CSV modified from the original 3.9M record lichess puzzle database. I've run about 100,000 positions through stockfish and got the evaluation (depth 15) for each in a separate column:\n",
    "\n",
    "lichess_db_puzzle_with_stockfish_eval.csv -> https://drive.google.com/file/d/1_-fEezSfi56E_9Nlck8M_IgqiG1wuap_/view?usp=sharing\n",
    "\n",
    "Here is also 500k puzzles from the database, no stockfish evaluation but still some modifications from the original file:\n",
    "\n",
    "lichess_db_puzzle_500_modified.csv -> https://drive.google.com/file/d/1TY_BjyoZa8EdOaADaXvTnIJ4F5lkWcuI/view?usp=sharing\n",
    "\n",
    "If you want all 3.9M puzzles, let me know and I will upload, but it's 700MB and I have limited Google Drive space."
   ]
  },
  {
   "cell_type": "code",
   "execution_count": 1,
   "metadata": {},
   "outputs": [
    {
     "name": "stdout",
     "output_type": "stream",
     "text": [
      "WARNING:tensorflow:From c:\\Users\\aseibel\\AppData\\Local\\Programs\\Python\\Python311\\Lib\\site-packages\\keras\\src\\losses.py:2976: The name tf.losses.sparse_softmax_cross_entropy is deprecated. Please use tf.compat.v1.losses.sparse_softmax_cross_entropy instead.\n",
      "\n"
     ]
    }
   ],
   "source": [
    "import pandas as pd\n",
    "import tensorflow as tf\n",
    "import numpy as np"
   ]
  },
  {
   "cell_type": "code",
   "execution_count": 3,
   "metadata": {},
   "outputs": [
    {
     "data": {
      "text/html": [
       "<div>\n",
       "<style scoped>\n",
       "    .dataframe tbody tr th:only-of-type {\n",
       "        vertical-align: middle;\n",
       "    }\n",
       "\n",
       "    .dataframe tbody tr th {\n",
       "        vertical-align: top;\n",
       "    }\n",
       "\n",
       "    .dataframe thead th {\n",
       "        text-align: right;\n",
       "    }\n",
       "</style>\n",
       "<table border=\"1\" class=\"dataframe\">\n",
       "  <thead>\n",
       "    <tr style=\"text-align: right;\">\n",
       "      <th></th>\n",
       "      <th>PuzzleId</th>\n",
       "      <th>FEN</th>\n",
       "      <th>BestMove</th>\n",
       "      <th>Rating</th>\n",
       "      <th>RatingDeviation</th>\n",
       "      <th>Popularity</th>\n",
       "      <th>NbPlays</th>\n",
       "      <th>Themes</th>\n",
       "      <th>GameUrl</th>\n",
       "      <th>OpeningTags</th>\n",
       "      <th>Evaluation</th>\n",
       "    </tr>\n",
       "  </thead>\n",
       "  <tbody>\n",
       "    <tr>\n",
       "      <th>0</th>\n",
       "      <td>00008</td>\n",
       "      <td>r6k/pp2r2p/4Rp1Q/3p4/8/1N1P2b1/PqP3PP/7K w - -...</td>\n",
       "      <td>e6e7</td>\n",
       "      <td>1917</td>\n",
       "      <td>76</td>\n",
       "      <td>94</td>\n",
       "      <td>6044</td>\n",
       "      <td>crushing hangingPiece long middlegame</td>\n",
       "      <td>https://lichess.org/787zsVup/black#47</td>\n",
       "      <td>NaN</td>\n",
       "      <td>613.0</td>\n",
       "    </tr>\n",
       "    <tr>\n",
       "      <th>1</th>\n",
       "      <td>0000D</td>\n",
       "      <td>5rk1/1p3ppp/pq1Q1b2/8/8/1P3N2/P4PPP/3R2K1 b - ...</td>\n",
       "      <td>f8d8</td>\n",
       "      <td>1485</td>\n",
       "      <td>74</td>\n",
       "      <td>96</td>\n",
       "      <td>25966</td>\n",
       "      <td>advantage endgame short</td>\n",
       "      <td>https://lichess.org/F8M8OS71#52</td>\n",
       "      <td>NaN</td>\n",
       "      <td>-414.0</td>\n",
       "    </tr>\n",
       "    <tr>\n",
       "      <th>2</th>\n",
       "      <td>0008Q</td>\n",
       "      <td>8/5R2/1p2P3/p4r2/P6p/1P3Pk1/4K3/8 b - - 1 64</td>\n",
       "      <td>f5e5</td>\n",
       "      <td>1420</td>\n",
       "      <td>74</td>\n",
       "      <td>90</td>\n",
       "      <td>541</td>\n",
       "      <td>advantage endgame rookEndgame short</td>\n",
       "      <td>https://lichess.org/MQSyb3KW#126</td>\n",
       "      <td>NaN</td>\n",
       "      <td>-228.0</td>\n",
       "    </tr>\n",
       "    <tr>\n",
       "      <th>3</th>\n",
       "      <td>0009B</td>\n",
       "      <td>r2qr1k1/b1p2ppp/p5n1/P1p1p3/4P1n1/B2P2Pb/3NBP1...</td>\n",
       "      <td>e2g4</td>\n",
       "      <td>1123</td>\n",
       "      <td>74</td>\n",
       "      <td>87</td>\n",
       "      <td>567</td>\n",
       "      <td>advantage middlegame short</td>\n",
       "      <td>https://lichess.org/4MWQCxQ6/black#31</td>\n",
       "      <td>Kings_Pawn_Game Kings_Pawn_Game_Leonardis_Vari...</td>\n",
       "      <td>271.0</td>\n",
       "    </tr>\n",
       "    <tr>\n",
       "      <th>4</th>\n",
       "      <td>000Vc</td>\n",
       "      <td>8/8/4k1p1/2KpP2P/5P2/8/8/8 b - - 0 53</td>\n",
       "      <td>g6h5</td>\n",
       "      <td>1556</td>\n",
       "      <td>81</td>\n",
       "      <td>73</td>\n",
       "      <td>91</td>\n",
       "      <td>crushing endgame long pawnEndgame</td>\n",
       "      <td>https://lichess.org/l6AejDMO#104</td>\n",
       "      <td>NaN</td>\n",
       "      <td>-514.0</td>\n",
       "    </tr>\n",
       "  </tbody>\n",
       "</table>\n",
       "</div>"
      ],
      "text/plain": [
       "  PuzzleId                                                FEN BestMove  \\\n",
       "0    00008  r6k/pp2r2p/4Rp1Q/3p4/8/1N1P2b1/PqP3PP/7K w - -...     e6e7   \n",
       "1    0000D  5rk1/1p3ppp/pq1Q1b2/8/8/1P3N2/P4PPP/3R2K1 b - ...     f8d8   \n",
       "2    0008Q       8/5R2/1p2P3/p4r2/P6p/1P3Pk1/4K3/8 b - - 1 64     f5e5   \n",
       "3    0009B  r2qr1k1/b1p2ppp/p5n1/P1p1p3/4P1n1/B2P2Pb/3NBP1...     e2g4   \n",
       "4    000Vc              8/8/4k1p1/2KpP2P/5P2/8/8/8 b - - 0 53     g6h5   \n",
       "\n",
       "   Rating  RatingDeviation  Popularity  NbPlays  \\\n",
       "0    1917               76          94     6044   \n",
       "1    1485               74          96    25966   \n",
       "2    1420               74          90      541   \n",
       "3    1123               74          87      567   \n",
       "4    1556               81          73       91   \n",
       "\n",
       "                                  Themes  \\\n",
       "0  crushing hangingPiece long middlegame   \n",
       "1                advantage endgame short   \n",
       "2    advantage endgame rookEndgame short   \n",
       "3             advantage middlegame short   \n",
       "4      crushing endgame long pawnEndgame   \n",
       "\n",
       "                                 GameUrl  \\\n",
       "0  https://lichess.org/787zsVup/black#47   \n",
       "1        https://lichess.org/F8M8OS71#52   \n",
       "2       https://lichess.org/MQSyb3KW#126   \n",
       "3  https://lichess.org/4MWQCxQ6/black#31   \n",
       "4       https://lichess.org/l6AejDMO#104   \n",
       "\n",
       "                                         OpeningTags  Evaluation  \n",
       "0                                                NaN       613.0  \n",
       "1                                                NaN      -414.0  \n",
       "2                                                NaN      -228.0  \n",
       "3  Kings_Pawn_Game Kings_Pawn_Game_Leonardis_Vari...       271.0  \n",
       "4                                                NaN      -514.0  "
      ]
     },
     "execution_count": 3,
     "metadata": {},
     "output_type": "execute_result"
    }
   ],
   "source": [
    "raw_dataset = pd.read_csv(\"lichess_db_puzzle_with_stockfish_eval.csv\")\n",
    "raw_dataset = raw_dataset.dropna(subset=['Evaluation'])\n",
    "raw_dataset.head()"
   ]
  },
  {
   "cell_type": "code",
   "execution_count": 4,
   "metadata": {},
   "outputs": [],
   "source": [
    "from game import *\n",
    "\n",
    "def convert_to_cnn_representation(fen: str):\n",
    "    game = Game(fen=fen)\n",
    "    return np.array(game.to_cnn_representation(), dtype=np.float32)\n",
    "\n",
    "raw_dataset['CNN_representations'] = raw_dataset['FEN'].apply(convert_to_cnn_representation).tolist()"
   ]
  },
  {
   "cell_type": "code",
   "execution_count": 7,
   "metadata": {},
   "outputs": [
    {
     "data": {
      "text/html": [
       "<div>\n",
       "<style scoped>\n",
       "    .dataframe tbody tr th:only-of-type {\n",
       "        vertical-align: middle;\n",
       "    }\n",
       "\n",
       "    .dataframe tbody tr th {\n",
       "        vertical-align: top;\n",
       "    }\n",
       "\n",
       "    .dataframe thead th {\n",
       "        text-align: right;\n",
       "    }\n",
       "</style>\n",
       "<table border=\"1\" class=\"dataframe\">\n",
       "  <thead>\n",
       "    <tr style=\"text-align: right;\">\n",
       "      <th></th>\n",
       "      <th>PuzzleId</th>\n",
       "      <th>FEN</th>\n",
       "      <th>BestMove</th>\n",
       "      <th>Rating</th>\n",
       "      <th>RatingDeviation</th>\n",
       "      <th>Popularity</th>\n",
       "      <th>NbPlays</th>\n",
       "      <th>Themes</th>\n",
       "      <th>GameUrl</th>\n",
       "      <th>OpeningTags</th>\n",
       "      <th>Evaluation</th>\n",
       "      <th>CNN_representations</th>\n",
       "      <th>Evaluation_MinMax</th>\n",
       "      <th>Evaluation_Standardized</th>\n",
       "    </tr>\n",
       "  </thead>\n",
       "  <tbody>\n",
       "    <tr>\n",
       "      <th>0</th>\n",
       "      <td>00008</td>\n",
       "      <td>r6k/pp2r2p/4Rp1Q/3p4/8/1N1P2b1/PqP3PP/7K w - -...</td>\n",
       "      <td>e6e7</td>\n",
       "      <td>1917</td>\n",
       "      <td>76</td>\n",
       "      <td>94</td>\n",
       "      <td>6044</td>\n",
       "      <td>crushing hangingPiece long middlegame</td>\n",
       "      <td>https://lichess.org/787zsVup/black#47</td>\n",
       "      <td>NaN</td>\n",
       "      <td>613.0</td>\n",
       "      <td>[[[0.0, 0.0, 0.0, 0.0, 0.0, 0.0, 0.0, 0.0], [1...</td>\n",
       "      <td>0.576025</td>\n",
       "      <td>1.370898</td>\n",
       "    </tr>\n",
       "    <tr>\n",
       "      <th>1</th>\n",
       "      <td>0000D</td>\n",
       "      <td>5rk1/1p3ppp/pq1Q1b2/8/8/1P3N2/P4PPP/3R2K1 b - ...</td>\n",
       "      <td>f8d8</td>\n",
       "      <td>1485</td>\n",
       "      <td>74</td>\n",
       "      <td>96</td>\n",
       "      <td>25966</td>\n",
       "      <td>advantage endgame short</td>\n",
       "      <td>https://lichess.org/F8M8OS71#52</td>\n",
       "      <td>NaN</td>\n",
       "      <td>-414.0</td>\n",
       "      <td>[[[0.0, 0.0, 0.0, 0.0, 0.0, 0.0, 0.0, 0.0], [1...</td>\n",
       "      <td>0.438927</td>\n",
       "      <td>-0.970624</td>\n",
       "    </tr>\n",
       "    <tr>\n",
       "      <th>2</th>\n",
       "      <td>0008Q</td>\n",
       "      <td>8/5R2/1p2P3/p4r2/P6p/1P3Pk1/4K3/8 b - - 1 64</td>\n",
       "      <td>f5e5</td>\n",
       "      <td>1420</td>\n",
       "      <td>74</td>\n",
       "      <td>90</td>\n",
       "      <td>541</td>\n",
       "      <td>advantage endgame rookEndgame short</td>\n",
       "      <td>https://lichess.org/MQSyb3KW#126</td>\n",
       "      <td>NaN</td>\n",
       "      <td>-228.0</td>\n",
       "      <td>[[[0.0, 0.0, 0.0, 0.0, 0.0, 0.0, 0.0, 0.0], [0...</td>\n",
       "      <td>0.463757</td>\n",
       "      <td>-0.546550</td>\n",
       "    </tr>\n",
       "    <tr>\n",
       "      <th>3</th>\n",
       "      <td>0009B</td>\n",
       "      <td>r2qr1k1/b1p2ppp/p5n1/P1p1p3/4P1n1/B2P2Pb/3NBP1...</td>\n",
       "      <td>e2g4</td>\n",
       "      <td>1123</td>\n",
       "      <td>74</td>\n",
       "      <td>87</td>\n",
       "      <td>567</td>\n",
       "      <td>advantage middlegame short</td>\n",
       "      <td>https://lichess.org/4MWQCxQ6/black#31</td>\n",
       "      <td>Kings_Pawn_Game Kings_Pawn_Game_Leonardis_Vari...</td>\n",
       "      <td>271.0</td>\n",
       "      <td>[[[0.0, 0.0, 0.0, 0.0, 0.0, 0.0, 0.0, 0.0], [0...</td>\n",
       "      <td>0.530370</td>\n",
       "      <td>0.591151</td>\n",
       "    </tr>\n",
       "    <tr>\n",
       "      <th>4</th>\n",
       "      <td>000Vc</td>\n",
       "      <td>8/8/4k1p1/2KpP2P/5P2/8/8/8 b - - 0 53</td>\n",
       "      <td>g6h5</td>\n",
       "      <td>1556</td>\n",
       "      <td>81</td>\n",
       "      <td>73</td>\n",
       "      <td>91</td>\n",
       "      <td>crushing endgame long pawnEndgame</td>\n",
       "      <td>https://lichess.org/l6AejDMO#104</td>\n",
       "      <td>NaN</td>\n",
       "      <td>-514.0</td>\n",
       "      <td>[[[0.0, 0.0, 0.0, 0.0, 0.0, 0.0, 0.0, 0.0], [0...</td>\n",
       "      <td>0.425577</td>\n",
       "      <td>-1.198620</td>\n",
       "    </tr>\n",
       "  </tbody>\n",
       "</table>\n",
       "</div>"
      ],
      "text/plain": [
       "  PuzzleId                                                FEN BestMove  \\\n",
       "0    00008  r6k/pp2r2p/4Rp1Q/3p4/8/1N1P2b1/PqP3PP/7K w - -...     e6e7   \n",
       "1    0000D  5rk1/1p3ppp/pq1Q1b2/8/8/1P3N2/P4PPP/3R2K1 b - ...     f8d8   \n",
       "2    0008Q       8/5R2/1p2P3/p4r2/P6p/1P3Pk1/4K3/8 b - - 1 64     f5e5   \n",
       "3    0009B  r2qr1k1/b1p2ppp/p5n1/P1p1p3/4P1n1/B2P2Pb/3NBP1...     e2g4   \n",
       "4    000Vc              8/8/4k1p1/2KpP2P/5P2/8/8/8 b - - 0 53     g6h5   \n",
       "\n",
       "   Rating  RatingDeviation  Popularity  NbPlays  \\\n",
       "0    1917               76          94     6044   \n",
       "1    1485               74          96    25966   \n",
       "2    1420               74          90      541   \n",
       "3    1123               74          87      567   \n",
       "4    1556               81          73       91   \n",
       "\n",
       "                                  Themes  \\\n",
       "0  crushing hangingPiece long middlegame   \n",
       "1                advantage endgame short   \n",
       "2    advantage endgame rookEndgame short   \n",
       "3             advantage middlegame short   \n",
       "4      crushing endgame long pawnEndgame   \n",
       "\n",
       "                                 GameUrl  \\\n",
       "0  https://lichess.org/787zsVup/black#47   \n",
       "1        https://lichess.org/F8M8OS71#52   \n",
       "2       https://lichess.org/MQSyb3KW#126   \n",
       "3  https://lichess.org/4MWQCxQ6/black#31   \n",
       "4       https://lichess.org/l6AejDMO#104   \n",
       "\n",
       "                                         OpeningTags  Evaluation  \\\n",
       "0                                                NaN       613.0   \n",
       "1                                                NaN      -414.0   \n",
       "2                                                NaN      -228.0   \n",
       "3  Kings_Pawn_Game Kings_Pawn_Game_Leonardis_Vari...       271.0   \n",
       "4                                                NaN      -514.0   \n",
       "\n",
       "                                 CNN_representations  Evaluation_MinMax  \\\n",
       "0  [[[0.0, 0.0, 0.0, 0.0, 0.0, 0.0, 0.0, 0.0], [1...           0.576025   \n",
       "1  [[[0.0, 0.0, 0.0, 0.0, 0.0, 0.0, 0.0, 0.0], [1...           0.438927   \n",
       "2  [[[0.0, 0.0, 0.0, 0.0, 0.0, 0.0, 0.0, 0.0], [0...           0.463757   \n",
       "3  [[[0.0, 0.0, 0.0, 0.0, 0.0, 0.0, 0.0, 0.0], [0...           0.530370   \n",
       "4  [[[0.0, 0.0, 0.0, 0.0, 0.0, 0.0, 0.0, 0.0], [0...           0.425577   \n",
       "\n",
       "   Evaluation_Standardized  \n",
       "0                 1.370898  \n",
       "1                -0.970624  \n",
       "2                -0.546550  \n",
       "3                 0.591151  \n",
       "4                -1.198620  "
      ]
     },
     "execution_count": 7,
     "metadata": {},
     "output_type": "execute_result"
    }
   ],
   "source": [
    "from sklearn.preprocessing import MinMaxScaler, StandardScaler\n",
    "\n",
    "# Assuming raw_dataset is your DataFrame\n",
    "# raw_dataset = pd.DataFrame({...})\n",
    "\n",
    "# Min-Max Scaling\n",
    "min_max_scaler = MinMaxScaler()\n",
    "raw_dataset['Evaluation_MinMax'] = min_max_scaler.fit_transform(raw_dataset[['Evaluation']])\n",
    "\n",
    "# Standardization\n",
    "standard_scaler = StandardScaler()\n",
    "raw_dataset['Evaluation_Standardized'] = standard_scaler.fit_transform(raw_dataset[['Evaluation']])\n",
    "\n",
    "# Display the DataFrame with the normalized columns\n",
    "raw_dataset.head()"
   ]
  },
  {
   "cell_type": "code",
   "execution_count": 8,
   "metadata": {},
   "outputs": [
    {
     "data": {
      "text/plain": [
       "(94534, 14)"
      ]
     },
     "execution_count": 8,
     "metadata": {},
     "output_type": "execute_result"
    }
   ],
   "source": [
    "raw_dataset.shape"
   ]
  },
  {
   "cell_type": "code",
   "execution_count": 9,
   "metadata": {},
   "outputs": [],
   "source": [
    "from sklearn.model_selection import train_test_split\n",
    "\n",
    "BATCH_SIZE = 2048\n",
    "X_train_and_val, X_test = train_test_split(raw_dataset, test_size=0.20)\n",
    "\n",
    "X_train, X_val = train_test_split(X_train_and_val, test_size=0.20)\n",
    "\n",
    "train_ds = tf.data.Dataset.from_tensor_slices((\n",
    "    X_train['CNN_representations'].values.tolist(),\n",
    "    X_train['Evaluation_Standardized'].values)).batch(BATCH_SIZE)\n",
    "\n",
    "val_ds = tf.data.Dataset.from_tensor_slices((\n",
    "    X_val['CNN_representations'].values.tolist(),\n",
    "    X_val['Evaluation_Standardized'].values)).batch(BATCH_SIZE)\n",
    "\n",
    "test_ds = tf.data.Dataset.from_tensor_slices((\n",
    "    X_test['CNN_representations'].values.tolist(),\n",
    "    X_test['Evaluation_Standardized'].values)).batch(BATCH_SIZE)\n"
   ]
  },
  {
   "cell_type": "code",
   "execution_count": 10,
   "metadata": {},
   "outputs": [
    {
     "name": "stdout",
     "output_type": "stream",
     "text": [
      "Board shape: (14, 8, 8)\n",
      "Label : 0.3608748089095868 \n",
      "Board shape: (14, 8, 8)\n",
      "Label : -1.018502847091901 \n",
      "Board shape: (14, 8, 8)\n",
      "Label : -0.4325523386747401 \n"
     ]
    }
   ],
   "source": [
    "for data_batch, label_batch in train_ds.take(1):\n",
    "  for i in range(3):\n",
    "    board_shape = data_batch.numpy()[i].shape\n",
    "    print(f'Board shape: {board_shape}')\n",
    "    label = label_batch.numpy()[i]\n",
    "    print(f'Label : {label} ')"
   ]
  },
  {
   "cell_type": "code",
   "execution_count": 17,
   "metadata": {},
   "outputs": [],
   "source": [
    "def build_model():\n",
    "    # Image Processing\n",
    "    image_input = tf.keras.layers.Input(shape=(14, 8, 8), dtype=tf.float32)\n",
    "    x = tf.keras.layers.Conv2D(32, (3, 3), activation='relu', padding='same', name='conv_layer_1')(image_input)\n",
    "    x = tf.keras.layers.MaxPooling2D((2, 2), name='pooling_1')(x)\n",
    "    x = tf.keras.layers.Conv2D(64, (3, 3), activation='relu', padding='same', name='conv_layer_2')(x)\n",
    "    x = tf.keras.layers.MaxPooling2D((2, 2), name='pooling_2')(x)\n",
    "    x = tf.keras.layers.Conv2D(128, (3, 3), activation='relu', padding='same', name='conv_layer_3')(x)\n",
    "    x = tf.keras.layers.MaxPooling2D((2, 2), name='pooling_3')(x)\n",
    "    x = tf.keras.layers.Flatten()(x)\n",
    "    x = tf.keras.layers.Dense(128, activation='relu')(x)\n",
    "\n",
    "    # Output layer\n",
    "    output = tf.keras.layers.Dense(1, name='classifier')(x)\n",
    "\n",
    "    return tf.keras.Model(inputs=[image_input], outputs=output)\n",
    "\n",
    "# Example usage\n",
    "model = build_model()"
   ]
  },
  {
   "cell_type": "code",
   "execution_count": 31,
   "metadata": {},
   "outputs": [
    {
     "name": "stdout",
     "output_type": "stream",
     "text": [
      "You must install pydot (`pip install pydot`) and install graphviz (see instructions at https://graphviz.gitlab.io/download/) for plot_model to work.\n"
     ]
    }
   ],
   "source": [
    "tf.keras.utils.plot_model(model, show_shapes=True, rankdir=\"LR\")"
   ]
  },
  {
   "cell_type": "code",
   "execution_count": 20,
   "metadata": {},
   "outputs": [
    {
     "name": "stdout",
     "output_type": "stream",
     "text": [
      "Model: \"model_4\"\n",
      "_________________________________________________________________\n",
      " Layer (type)                Output Shape              Param #   \n",
      "=================================================================\n",
      " input_5 (InputLayer)        [(None, 14, 8, 8)]        0         \n",
      "                                                                 \n",
      " conv_layer_1 (Conv2D)       (None, 14, 8, 32)         2336      \n",
      "                                                                 \n",
      " pooling_1 (MaxPooling2D)    (None, 7, 4, 32)          0         \n",
      "                                                                 \n",
      " conv_layer_2 (Conv2D)       (None, 7, 4, 64)          18496     \n",
      "                                                                 \n",
      " pooling_2 (MaxPooling2D)    (None, 3, 2, 64)          0         \n",
      "                                                                 \n",
      " conv_layer_3 (Conv2D)       (None, 3, 2, 128)         73856     \n",
      "                                                                 \n",
      " pooling_3 (MaxPooling2D)    (None, 1, 1, 128)         0         \n",
      "                                                                 \n",
      " flatten_4 (Flatten)         (None, 128)               0         \n",
      "                                                                 \n",
      " dense_3 (Dense)             (None, 128)               16512     \n",
      "                                                                 \n",
      " classifier (Dense)          (None, 1)                 129       \n",
      "                                                                 \n",
      "=================================================================\n",
      "Total params: 111329 (434.88 KB)\n",
      "Trainable params: 111329 (434.88 KB)\n",
      "Non-trainable params: 0 (0.00 Byte)\n",
      "_________________________________________________________________\n"
     ]
    }
   ],
   "source": [
    "from tensorflow.keras.callbacks import EarlyStopping\n",
    "\n",
    "# Compile the model for regression\n",
    "model.compile(optimizer='adam',\n",
    "              loss='mean_squared_error',  # or 'mean_absolute_error'\n",
    "              metrics=['mean_squared_error', 'mean_absolute_error'])\n",
    "\n",
    "early_stopping = EarlyStopping(monitor='val_loss', patience=5, restore_best_weights=True)\n",
    "\n",
    "model.summary()"
   ]
  },
  {
   "cell_type": "code",
   "execution_count": 22,
   "metadata": {},
   "outputs": [
    {
     "name": "stdout",
     "output_type": "stream",
     "text": [
      "Epoch 1/50\n"
     ]
    },
    {
     "name": "stdout",
     "output_type": "stream",
     "text": [
      "30/30 [==============================] - 1s 33ms/step - loss: 0.1293 - mean_squared_error: 0.1293 - mean_absolute_error: 0.2754 - val_loss: 0.3077 - val_mean_squared_error: 0.3077 - val_mean_absolute_error: 0.3300\n",
      "Epoch 2/50\n",
      "30/30 [==============================] - 1s 31ms/step - loss: 0.1148 - mean_squared_error: 0.1148 - mean_absolute_error: 0.2624 - val_loss: 0.2991 - val_mean_squared_error: 0.2991 - val_mean_absolute_error: 0.3275\n",
      "Epoch 3/50\n",
      "30/30 [==============================] - 1s 32ms/step - loss: 0.1150 - mean_squared_error: 0.1150 - mean_absolute_error: 0.2634 - val_loss: 0.3082 - val_mean_squared_error: 0.3082 - val_mean_absolute_error: 0.3305\n",
      "Epoch 4/50\n",
      "30/30 [==============================] - 1s 31ms/step - loss: 0.1243 - mean_squared_error: 0.1243 - mean_absolute_error: 0.2729 - val_loss: 0.3124 - val_mean_squared_error: 0.3124 - val_mean_absolute_error: 0.3354\n",
      "Epoch 5/50\n",
      "30/30 [==============================] - 1s 33ms/step - loss: 0.1238 - mean_squared_error: 0.1238 - mean_absolute_error: 0.2715 - val_loss: 0.3251 - val_mean_squared_error: 0.3251 - val_mean_absolute_error: 0.3424\n",
      "Epoch 6/50\n",
      "30/30 [==============================] - 1s 32ms/step - loss: 0.1157 - mean_squared_error: 0.1157 - mean_absolute_error: 0.2633 - val_loss: 0.3175 - val_mean_squared_error: 0.3175 - val_mean_absolute_error: 0.3386\n",
      "Epoch 7/50\n",
      "30/30 [==============================] - 1s 33ms/step - loss: 0.1207 - mean_squared_error: 0.1207 - mean_absolute_error: 0.2687 - val_loss: 0.3052 - val_mean_squared_error: 0.3052 - val_mean_absolute_error: 0.3297\n"
     ]
    }
   ],
   "source": [
    "history = model.fit(train_ds, validation_data=val_ds, epochs=50, callbacks=[early_stopping])"
   ]
  },
  {
   "cell_type": "code",
   "execution_count": 27,
   "metadata": {},
   "outputs": [
    {
     "name": "stdout",
     "output_type": "stream",
     "text": [
      "10/10 [==============================] - 0s 11ms/step - loss: 0.3021 - mean_squared_error: 0.3021 - mean_absolute_error: 0.3273\n"
     ]
    },
    {
     "data": {
      "text/plain": [
       "[0.3020622432231903, 0.3020622432231903, 0.3272637128829956]"
      ]
     },
     "execution_count": 27,
     "metadata": {},
     "output_type": "execute_result"
    }
   ],
   "source": [
    "model.evaluate(test_ds)"
   ]
  },
  {
   "cell_type": "code",
   "execution_count": 25,
   "metadata": {},
   "outputs": [
    {
     "name": "stdout",
     "output_type": "stream",
     "text": [
      "dict_keys(['loss', 'mean_squared_error', 'mean_absolute_error', 'val_loss', 'val_mean_squared_error', 'val_mean_absolute_error'])\n"
     ]
    },
    {
     "data": {
      "text/plain": [
       "<matplotlib.legend.Legend at 0x2b440591d50>"
      ]
     },
     "execution_count": 25,
     "metadata": {},
     "output_type": "execute_result"
    },
    {
     "data": {
      "image/png": "[encoded data removed]",
      "text/plain": [
       "<Figure size 1000x600 with 2 Axes>"
      ]
     },
     "metadata": {},
     "output_type": "display_data"
    }
   ],
   "source": [
    "import matplotlib.pyplot as plt\n",
    "\n",
    "history_dict = history.history\n",
    "print(history_dict.keys())\n",
    "\n",
    "acc = history_dict['mean_squared_error']\n",
    "val_acc = history_dict['val_mean_squared_error']\n",
    "loss = history_dict['loss']\n",
    "val_loss = history_dict['val_loss']\n",
    "\n",
    "epochs = range(1, len(acc) + 1)\n",
    "fig = plt.figure(figsize=(10, 6))\n",
    "fig.tight_layout()\n",
    "\n",
    "plt.subplot(2, 1, 1)\n",
    "plt.plot(epochs, loss, 'r', label='Training loss')\n",
    "plt.plot(epochs, val_loss, 'b', label='Validation loss')\n",
    "plt.title('Loss')\n",
    "plt.ylabel('Loss')\n",
    "plt.legend()\n",
    "\n",
    "plt.subplot(2, 1, 2)\n",
    "plt.plot(epochs, acc, 'r', label='Training acc')\n",
    "plt.plot(epochs, val_acc, 'b', label='Validation acc')\n",
    "plt.title('Accuracy')\n",
    "plt.xlabel('Epochs')\n",
    "plt.ylabel('Accuracy')\n",
    "plt.legend(loc='lower right')"
   ]
  },
  {
   "cell_type": "code",
   "execution_count": 45,
   "metadata": {},
   "outputs": [
    {
     "name": "stdout",
     "output_type": "stream",
     "text": [
      "Examples: \n",
      "In a game winning for white: tf.Tensor([[0.9449743]], shape=(1, 1), dtype=float32)\n",
      "In a game winning for black: tf.Tensor([[-0.66710186]], shape=(1, 1), dtype=float32)\n"
     ]
    }
   ],
   "source": [
    "print(\"Examples: \")\n",
    "\n",
    "winning_for_white = np.array(Game(\"1r3k1r/pNqnppb1/6pn/2p3Np/7P/2P2Q2/PP3PP1/R1B1K2R w KQ - 2 15\").to_cnn_representation(), dtype=np.float32)\n",
    "winning_for_black = np.array(Game(\"5rk1/R4pp1/1p5p/3Q4/1PPp2q1/3P2P1/5P2/4K3 b - - 0 34\").to_cnn_representation(), dtype=np.float32)\n",
    "\n",
    "winning_for_white = np.expand_dims(winning_for_white, axis=0)\n",
    "winning_for_black = np.expand_dims(winning_for_black, axis=0)\n",
    "\n",
    "print(\"In a game winning for white:\", model(winning_for_white))\n",
    "print(\"In a game winning for black:\", model(winning_for_black))"
   ]
  },
  {
   "cell_type": "code",
   "execution_count": 44,
   "metadata": {},
   "outputs": [
    {
     "name": "stdout",
     "output_type": "stream",
     "text": [
      "INFO:tensorflow:Assets written to: ./eval_cnn\\assets\n"
     ]
    },
    {
     "name": "stderr",
     "output_type": "stream",
     "text": [
      "INFO:tensorflow:Assets written to: ./eval_cnn\\assets\n"
     ]
    }
   ],
   "source": [
    "model.save('./eval_cnn', include_optimizer=False)"
   ]
  }
 ],
 "metadata": {
  "kernelspec": {
   "display_name": "Python 3",
   "language": "python",
   "name": "python3"
  },
  "language_info": {
   "codemirror_mode": {
    "name": "ipython",
    "version": 3
   },
   "file_extension": ".py",
   "mimetype": "text/x-python",
   "name": "python",
   "nbconvert_exporter": "python",
   "pygments_lexer": "ipython3",
   "version": "3.11.4"
  }
 },
 "nbformat": 4,
 "nbformat_minor": 2
}
